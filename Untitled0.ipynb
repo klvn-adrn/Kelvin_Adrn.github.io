{
  "nbformat": 4,
  "nbformat_minor": 0,
  "metadata": {
    "colab": {
      "provenance": [],
      "authorship_tag": "ABX9TyPR08RHXYjnVyf+/zGWlKM+",
      "include_colab_link": true
    },
    "kernelspec": {
      "name": "python3",
      "display_name": "Python 3"
    },
    "language_info": {
      "name": "python"
    }
  },
  "cells": [
    {
      "cell_type": "markdown",
      "metadata": {
        "id": "view-in-github",
        "colab_type": "text"
      },
      "source": [
        "<a href=\"https://colab.research.google.com/github/klvn-adrn/Kelvin_Adrn.github.io/blob/main/Untitled0.ipynb\" target=\"_parent\"><img src=\"https://colab.research.google.com/assets/colab-badge.svg\" alt=\"Open In Colab\"/></a>"
      ]
    },
    {
      "cell_type": "code",
      "execution_count": 1,
      "metadata": {
        "colab": {
          "base_uri": "https://localhost:8080/",
          "height": 140
        },
        "id": "eesxKByLV1pM",
        "outputId": "2514e3ad-3430-4984-c111-1829fc0762c7"
      },
      "outputs": [
        {
          "output_type": "error",
          "ename": "SyntaxError",
          "evalue": "ignored",
          "traceback": [
            "\u001b[0;36m  File \u001b[0;32m\"<ipython-input-1-a6e553e2675c>\"\u001b[0;36m, line \u001b[0;32m1\u001b[0m\n\u001b[0;31m    ‹!DOCTYPE html›\u001b[0m\n\u001b[0m    ^\u001b[0m\n\u001b[0;31mSyntaxError\u001b[0m\u001b[0;31m:\u001b[0m invalid character '‹' (U+2039)\n"
          ]
        }
      ],
      "source": [
        "‹!DOCTYPE html›\n",
        "<html lan=-\"en\">\n",
        "<head>\n",
        "      ‹meta charset-\"UTF-8\">\n",
        "      ‹meta http-equiv=\"X-UA-Compatible\" content=\"IE»edge\">\n",
        "      ‹meta name-\"viewport\" content=\"width-device-width, initial-scale 1.0\">\n",
        "      <titlexiy Portfolio</title>\n",
        "</head>\n",
        "<body>\n",
        "      <h1>this is my Portofolio</h1>\n",
        "</body>\n",
        "</html>"
      ]
    }
  ]
}